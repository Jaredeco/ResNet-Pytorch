{
 "metadata": {
  "language_info": {
   "codemirror_mode": {
    "name": "ipython",
    "version": 3
   },
   "file_extension": ".py",
   "mimetype": "text/x-python",
   "name": "python",
   "nbconvert_exporter": "python",
   "pygments_lexer": "ipython3",
   "version": "3.7.6-final"
  },
  "orig_nbformat": 2,
  "kernelspec": {
   "name": "python_defaultSpec_1600017738619",
   "display_name": "Python 3.7.6 64-bit"
  }
 },
 "nbformat": 4,
 "nbformat_minor": 2,
 "cells": [
  {
   "cell_type": "code",
   "execution_count": 1,
   "metadata": {},
   "outputs": [],
   "source": [
    "import torch\n",
    "import torch.nn.functional as F\n",
    "from torch import nn\n",
    "from torch import optim\n",
    "from torchvision.datasets import ImageFolder\n",
    "from torchvision import transforms\n",
    "from torch.utils.data import DataLoader, Subset\n",
    "import torchvision"
   ]
  },
  {
   "cell_type": "code",
   "execution_count": 2,
   "metadata": {},
   "outputs": [],
   "source": [
    "dataset_path = r\"D:/Datasets/gtsrb/gtsrb\"\n",
    "transform = transforms.Compose(\n",
    "    [transforms.Resize((32, 32)), transforms.ToTensor()])\n",
    "data = ImageFolder(root=dataset_path, transform=transform)\n",
    "n = len(data)\n",
    "n_test = int(0.1 * n) \n",
    "train_data = Subset(data, range(n_test)) \n",
    "test_data = Subset(data, range(n_test, n))\n",
    "train_loader = DataLoader(train_data, batch_size=64, shuffle=True)\n",
    "test_loader = DataLoader(test_data, batch_size=len(test_data))\n",
    "number_classes = len(data.classes)"
   ]
  },
  {
   "cell_type": "code",
   "execution_count": 3,
   "metadata": {},
   "outputs": [],
   "source": [
    "class Network(nn.Module):\n",
    "  def __init__(self):\n",
    "    super(Network, self).__init__()\n",
    "    self.conv_res1 = nn.Conv2d(128, 128, kernel_size=3, stride=1, padding=1)\n",
    "    self.conv_res2 = nn.Conv2d(128, 128, kernel_size=3, stride=1, padding=1)\n",
    "    self.conv1 = nn.Conv2d(3, 16, kernel_size=3)\n",
    "    self.bn1 = nn.BatchNorm2d(16)\n",
    "    self.conv2 = nn.Conv2d(16, 50, kernel_size=3)\n",
    "    self.bn2 =  nn.BatchNorm2d(50)\n",
    "    self.conv3 = nn.Conv2d(50, 128, kernel_size=3)\n",
    "    self.bn3 =  nn.BatchNorm2d(128)\n",
    "\n",
    "    self.conv_res3 = nn.Conv2d(256, 256, kernel_size=3, stride=1, padding=1)\n",
    "    self.conv_res4 = nn.Conv2d(256, 256, kernel_size=3, stride=1, padding=1)\n",
    "    self.conv4 = nn.Conv2d(128, 128, kernel_size=3)\n",
    "    self.bn4 = nn.BatchNorm2d(128)\n",
    "    self.conv5 = nn.Conv2d(128, 256, kernel_size=3)\n",
    "    self.bn5 =  nn.BatchNorm2d(256)\n",
    "\n",
    "    self.fc1 = nn.Linear(256*22*22, 256)\n",
    "    self.fc2 = nn.Linear(256, number_classes)\n",
    "\n",
    "  def resnet_block1(self, x):\n",
    "    out = F.relu(self.conv_res1(x))\n",
    "    out = F.relu(self.conv_res2(out))\n",
    "    return out + x\n",
    "  \n",
    "  def conv_block1(self, x):\n",
    "    x = F.relu(self.bn1(self.conv1(x)))\n",
    "    x = F.relu(self.bn2(self.conv2(x)))\n",
    "    x = F.relu(self.bn3(self.conv3(x)))\n",
    "    return x\n",
    "  \n",
    "  def resnet_block2(self, x):\n",
    "    out = F.relu(self.conv_res3(x))\n",
    "    out = F.relu(self.conv_res4(out))\n",
    "    return out + x\n",
    "  \n",
    "  def conv_block2(self, x):\n",
    "    x = F.relu(self.bn4(self.conv4(x)))\n",
    "    x = F.relu(self.bn5(self.conv5(x)))\n",
    "    return x\n",
    "  \n",
    "  def forward(self, x):\n",
    "    x = self.conv_block1(x)\n",
    "    x = self.resnet_block1(x)\n",
    "    x = self.conv_block2(x)\n",
    "    x = self.resnet_block2(x)\n",
    "    x = x.view(x.size(0), -1)\n",
    "    x = F.relu(self.fc1(x))\n",
    "    x = self.fc2(x)\n",
    "    return x"
   ]
  },
  {
   "cell_type": "code",
   "execution_count": 4,
   "metadata": {
    "tags": []
   },
   "outputs": [
    {
     "output_type": "stream",
     "name": "stdout",
     "text": "[Epoch 0] Loss: 3.80912709236145, Test accuracy: 57.8125 %\n[Epoch 1] Loss: 1.055458426475525, Test accuracy: 85.9375 %\n[Epoch 2] Loss: 0.12479907274246216, Test accuracy: 98.4375 %\n[Epoch 3] Loss: 0.11325925588607788, Test accuracy: 98.4375 %\n[Epoch 4] Loss: 0.0015519261360168457, Test accuracy: 100.0 %\n[Epoch 5] Loss: 0.000577390193939209, Test accuracy: 100.0 %\n[Epoch 6] Loss: 0.003069758415222168, Test accuracy: 100.0 %\n[Epoch 7] Loss: 0.0004661679267883301, Test accuracy: 100.0 %\n[Epoch 8] Loss: 0.052321165800094604, Test accuracy: 96.875 %\n[Epoch 9] Loss: 2.682209014892578e-06, Test accuracy: 100.0 %\n"
    }
   ],
   "source": [
    "net = Network().cuda()\n",
    "loss_fn = nn.CrossEntropyLoss() \n",
    "optimizer = optim.Adam(net.parameters())\n",
    "num_epochs = 10\n",
    "loss_memory = []\n",
    "\n",
    "for epoch in range(num_epochs):\n",
    "    running_loss = 0.0\n",
    "    for i, data in enumerate(train_loader):\n",
    "        net.train()\n",
    "        optimizer.zero_grad()\n",
    "        inputs, labels = data[0].cuda(), data[1].cuda()\n",
    "        preds = net(inputs)\n",
    "        loss = loss_fn(preds, labels)\n",
    "        loss.backward()\n",
    "        optimizer.step()\n",
    "        running_loss =+ loss.item() * inputs.size(0)\n",
    "        loss_memory.append(running_loss / len(train_data))\n",
    "        if not i % 100:\n",
    "            net.eval()\n",
    "            test_inputs, test_labels = next(iter(test_loader))[0].cuda(), next(iter(test_loader))[1].cuda()\n",
    "            test_preds = net(inputs)\n",
    "            test_preds = torch.argmax(test_preds, dim=1)\n",
    "            correct = sum(test_preds == labels)\n",
    "            accuracy = (correct.item() / len(labels)) * 100\n",
    "            print(f\"[Epoch {epoch}] Loss: {loss}, Test accuracy: {accuracy} %\")"
   ]
  },
  {
   "cell_type": "code",
   "execution_count": 6,
   "metadata": {},
   "outputs": [
    {
     "output_type": "display_data",
     "data": {
      "text/plain": "<Figure size 432x288 with 1 Axes>",
      "image/svg+xml": "<?xml version=\"1.0\" encoding=\"utf-8\" standalone=\"no\"?>\r\n<!DOCTYPE svg PUBLIC \"-//W3C//DTD SVG 1.1//EN\"\r\n  \"http://www.w3.org/Graphics/SVG/1.1/DTD/svg11.dtd\">\r\n<!-- Created with matplotlib (https://matplotlib.org/) -->\r\n<svg height=\"248.518125pt\" version=\"1.1\" viewBox=\"0 0 372.103125 248.518125\" width=\"372.103125pt\" xmlns=\"http://www.w3.org/2000/svg\" xmlns:xlink=\"http://www.w3.org/1999/xlink\">\r\n <defs>\r\n  <style type=\"text/css\">\r\n*{stroke-linecap:butt;stroke-linejoin:round;}\r\n  </style>\r\n </defs>\r\n <g id=\"figure_1\">\r\n  <g id=\"patch_1\">\r\n   <path d=\"M 0 248.518125 \r\nL 372.103125 248.518125 \r\nL 372.103125 0 \r\nL 0 0 \r\nz\r\n\" style=\"fill:none;\"/>\r\n  </g>\r\n  <g id=\"axes_1\">\r\n   <g id=\"patch_2\">\r\n    <path d=\"M 30.103125 224.64 \r\nL 364.903125 224.64 \r\nL 364.903125 7.2 \r\nL 30.103125 7.2 \r\nz\r\n\" style=\"fill:#ffffff;\"/>\r\n   </g>\r\n   <g id=\"matplotlib.axis_1\">\r\n    <g id=\"xtick_1\">\r\n     <g id=\"line2d_1\">\r\n      <defs>\r\n       <path d=\"M 0 0 \r\nL 0 3.5 \r\n\" id=\"m4f8f8481d1\" style=\"stroke:#000000;stroke-width:0.8;\"/>\r\n      </defs>\r\n      <g>\r\n       <use style=\"stroke:#000000;stroke-width:0.8;\" x=\"45.321307\" xlink:href=\"#m4f8f8481d1\" y=\"224.64\"/>\r\n      </g>\r\n     </g>\r\n     <g id=\"text_1\">\r\n      <!-- 0 -->\r\n      <defs>\r\n       <path d=\"M 31.78125 66.40625 \r\nQ 24.171875 66.40625 20.328125 58.90625 \r\nQ 16.5 51.421875 16.5 36.375 \r\nQ 16.5 21.390625 20.328125 13.890625 \r\nQ 24.171875 6.390625 31.78125 6.390625 \r\nQ 39.453125 6.390625 43.28125 13.890625 \r\nQ 47.125 21.390625 47.125 36.375 \r\nQ 47.125 51.421875 43.28125 58.90625 \r\nQ 39.453125 66.40625 31.78125 66.40625 \r\nz\r\nM 31.78125 74.21875 \r\nQ 44.046875 74.21875 50.515625 64.515625 \r\nQ 56.984375 54.828125 56.984375 36.375 \r\nQ 56.984375 17.96875 50.515625 8.265625 \r\nQ 44.046875 -1.421875 31.78125 -1.421875 \r\nQ 19.53125 -1.421875 13.0625 8.265625 \r\nQ 6.59375 17.96875 6.59375 36.375 \r\nQ 6.59375 54.828125 13.0625 64.515625 \r\nQ 19.53125 74.21875 31.78125 74.21875 \r\nz\r\n\" id=\"DejaVuSans-48\"/>\r\n      </defs>\r\n      <g transform=\"translate(42.140057 239.238437)scale(0.1 -0.1)\">\r\n       <use xlink:href=\"#DejaVuSans-48\"/>\r\n      </g>\r\n     </g>\r\n    </g>\r\n    <g id=\"xtick_2\">\r\n     <g id=\"line2d_2\">\r\n      <g>\r\n       <use style=\"stroke:#000000;stroke-width:0.8;\" x=\"117.961793\" xlink:href=\"#m4f8f8481d1\" y=\"224.64\"/>\r\n      </g>\r\n     </g>\r\n     <g id=\"text_2\">\r\n      <!-- 100 -->\r\n      <defs>\r\n       <path d=\"M 12.40625 8.296875 \r\nL 28.515625 8.296875 \r\nL 28.515625 63.921875 \r\nL 10.984375 60.40625 \r\nL 10.984375 69.390625 \r\nL 28.421875 72.90625 \r\nL 38.28125 72.90625 \r\nL 38.28125 8.296875 \r\nL 54.390625 8.296875 \r\nL 54.390625 0 \r\nL 12.40625 0 \r\nz\r\n\" id=\"DejaVuSans-49\"/>\r\n      </defs>\r\n      <g transform=\"translate(108.418043 239.238437)scale(0.1 -0.1)\">\r\n       <use xlink:href=\"#DejaVuSans-49\"/>\r\n       <use x=\"63.623047\" xlink:href=\"#DejaVuSans-48\"/>\r\n       <use x=\"127.246094\" xlink:href=\"#DejaVuSans-48\"/>\r\n      </g>\r\n     </g>\r\n    </g>\r\n    <g id=\"xtick_3\">\r\n     <g id=\"line2d_3\">\r\n      <g>\r\n       <use style=\"stroke:#000000;stroke-width:0.8;\" x=\"190.602279\" xlink:href=\"#m4f8f8481d1\" y=\"224.64\"/>\r\n      </g>\r\n     </g>\r\n     <g id=\"text_3\">\r\n      <!-- 200 -->\r\n      <defs>\r\n       <path d=\"M 19.1875 8.296875 \r\nL 53.609375 8.296875 \r\nL 53.609375 0 \r\nL 7.328125 0 \r\nL 7.328125 8.296875 \r\nQ 12.9375 14.109375 22.625 23.890625 \r\nQ 32.328125 33.6875 34.8125 36.53125 \r\nQ 39.546875 41.84375 41.421875 45.53125 \r\nQ 43.3125 49.21875 43.3125 52.78125 \r\nQ 43.3125 58.59375 39.234375 62.25 \r\nQ 35.15625 65.921875 28.609375 65.921875 \r\nQ 23.96875 65.921875 18.8125 64.3125 \r\nQ 13.671875 62.703125 7.8125 59.421875 \r\nL 7.8125 69.390625 \r\nQ 13.765625 71.78125 18.9375 73 \r\nQ 24.125 74.21875 28.421875 74.21875 \r\nQ 39.75 74.21875 46.484375 68.546875 \r\nQ 53.21875 62.890625 53.21875 53.421875 \r\nQ 53.21875 48.921875 51.53125 44.890625 \r\nQ 49.859375 40.875 45.40625 35.40625 \r\nQ 44.1875 33.984375 37.640625 27.21875 \r\nQ 31.109375 20.453125 19.1875 8.296875 \r\nz\r\n\" id=\"DejaVuSans-50\"/>\r\n      </defs>\r\n      <g transform=\"translate(181.058529 239.238437)scale(0.1 -0.1)\">\r\n       <use xlink:href=\"#DejaVuSans-50\"/>\r\n       <use x=\"63.623047\" xlink:href=\"#DejaVuSans-48\"/>\r\n       <use x=\"127.246094\" xlink:href=\"#DejaVuSans-48\"/>\r\n      </g>\r\n     </g>\r\n    </g>\r\n    <g id=\"xtick_4\">\r\n     <g id=\"line2d_4\">\r\n      <g>\r\n       <use style=\"stroke:#000000;stroke-width:0.8;\" x=\"263.242765\" xlink:href=\"#m4f8f8481d1\" y=\"224.64\"/>\r\n      </g>\r\n     </g>\r\n     <g id=\"text_4\">\r\n      <!-- 300 -->\r\n      <defs>\r\n       <path d=\"M 40.578125 39.3125 \r\nQ 47.65625 37.796875 51.625 33 \r\nQ 55.609375 28.21875 55.609375 21.1875 \r\nQ 55.609375 10.40625 48.1875 4.484375 \r\nQ 40.765625 -1.421875 27.09375 -1.421875 \r\nQ 22.515625 -1.421875 17.65625 -0.515625 \r\nQ 12.796875 0.390625 7.625 2.203125 \r\nL 7.625 11.71875 \r\nQ 11.71875 9.328125 16.59375 8.109375 \r\nQ 21.484375 6.890625 26.8125 6.890625 \r\nQ 36.078125 6.890625 40.9375 10.546875 \r\nQ 45.796875 14.203125 45.796875 21.1875 \r\nQ 45.796875 27.640625 41.28125 31.265625 \r\nQ 36.765625 34.90625 28.71875 34.90625 \r\nL 20.21875 34.90625 \r\nL 20.21875 43.015625 \r\nL 29.109375 43.015625 \r\nQ 36.375 43.015625 40.234375 45.921875 \r\nQ 44.09375 48.828125 44.09375 54.296875 \r\nQ 44.09375 59.90625 40.109375 62.90625 \r\nQ 36.140625 65.921875 28.71875 65.921875 \r\nQ 24.65625 65.921875 20.015625 65.03125 \r\nQ 15.375 64.15625 9.8125 62.3125 \r\nL 9.8125 71.09375 \r\nQ 15.4375 72.65625 20.34375 73.4375 \r\nQ 25.25 74.21875 29.59375 74.21875 \r\nQ 40.828125 74.21875 47.359375 69.109375 \r\nQ 53.90625 64.015625 53.90625 55.328125 \r\nQ 53.90625 49.265625 50.4375 45.09375 \r\nQ 46.96875 40.921875 40.578125 39.3125 \r\nz\r\n\" id=\"DejaVuSans-51\"/>\r\n      </defs>\r\n      <g transform=\"translate(253.699015 239.238437)scale(0.1 -0.1)\">\r\n       <use xlink:href=\"#DejaVuSans-51\"/>\r\n       <use x=\"63.623047\" xlink:href=\"#DejaVuSans-48\"/>\r\n       <use x=\"127.246094\" xlink:href=\"#DejaVuSans-48\"/>\r\n      </g>\r\n     </g>\r\n    </g>\r\n    <g id=\"xtick_5\">\r\n     <g id=\"line2d_5\">\r\n      <g>\r\n       <use style=\"stroke:#000000;stroke-width:0.8;\" x=\"335.883251\" xlink:href=\"#m4f8f8481d1\" y=\"224.64\"/>\r\n      </g>\r\n     </g>\r\n     <g id=\"text_5\">\r\n      <!-- 400 -->\r\n      <defs>\r\n       <path d=\"M 37.796875 64.3125 \r\nL 12.890625 25.390625 \r\nL 37.796875 25.390625 \r\nz\r\nM 35.203125 72.90625 \r\nL 47.609375 72.90625 \r\nL 47.609375 25.390625 \r\nL 58.015625 25.390625 \r\nL 58.015625 17.1875 \r\nL 47.609375 17.1875 \r\nL 47.609375 0 \r\nL 37.796875 0 \r\nL 37.796875 17.1875 \r\nL 4.890625 17.1875 \r\nL 4.890625 26.703125 \r\nz\r\n\" id=\"DejaVuSans-52\"/>\r\n      </defs>\r\n      <g transform=\"translate(326.339501 239.238437)scale(0.1 -0.1)\">\r\n       <use xlink:href=\"#DejaVuSans-52\"/>\r\n       <use x=\"63.623047\" xlink:href=\"#DejaVuSans-48\"/>\r\n       <use x=\"127.246094\" xlink:href=\"#DejaVuSans-48\"/>\r\n      </g>\r\n     </g>\r\n    </g>\r\n   </g>\r\n   <g id=\"matplotlib.axis_2\">\r\n    <g id=\"ytick_1\">\r\n     <g id=\"line2d_6\">\r\n      <defs>\r\n       <path d=\"M 0 0 \r\nL -3.5 0 \r\n\" id=\"m8e05f2a1fe\" style=\"stroke:#000000;stroke-width:0.8;\"/>\r\n      </defs>\r\n      <g>\r\n       <use style=\"stroke:#000000;stroke-width:0.8;\" x=\"30.103125\" xlink:href=\"#m8e05f2a1fe\" y=\"214.756364\"/>\r\n      </g>\r\n     </g>\r\n     <g id=\"text_6\">\r\n      <!-- 0.0 -->\r\n      <defs>\r\n       <path d=\"M 10.6875 12.40625 \r\nL 21 12.40625 \r\nL 21 0 \r\nL 10.6875 0 \r\nz\r\n\" id=\"DejaVuSans-46\"/>\r\n      </defs>\r\n      <g transform=\"translate(7.2 218.555582)scale(0.1 -0.1)\">\r\n       <use xlink:href=\"#DejaVuSans-48\"/>\r\n       <use x=\"63.623047\" xlink:href=\"#DejaVuSans-46\"/>\r\n       <use x=\"95.410156\" xlink:href=\"#DejaVuSans-48\"/>\r\n      </g>\r\n     </g>\r\n    </g>\r\n    <g id=\"ytick_2\">\r\n     <g id=\"line2d_7\">\r\n      <g>\r\n       <use style=\"stroke:#000000;stroke-width:0.8;\" x=\"30.103125\" xlink:href=\"#m8e05f2a1fe\" y=\"177.375214\"/>\r\n      </g>\r\n     </g>\r\n     <g id=\"text_7\">\r\n      <!-- 0.2 -->\r\n      <g transform=\"translate(7.2 181.174433)scale(0.1 -0.1)\">\r\n       <use xlink:href=\"#DejaVuSans-48\"/>\r\n       <use x=\"63.623047\" xlink:href=\"#DejaVuSans-46\"/>\r\n       <use x=\"95.410156\" xlink:href=\"#DejaVuSans-50\"/>\r\n      </g>\r\n     </g>\r\n    </g>\r\n    <g id=\"ytick_3\">\r\n     <g id=\"line2d_8\">\r\n      <g>\r\n       <use style=\"stroke:#000000;stroke-width:0.8;\" x=\"30.103125\" xlink:href=\"#m8e05f2a1fe\" y=\"139.994065\"/>\r\n      </g>\r\n     </g>\r\n     <g id=\"text_8\">\r\n      <!-- 0.4 -->\r\n      <g transform=\"translate(7.2 143.793283)scale(0.1 -0.1)\">\r\n       <use xlink:href=\"#DejaVuSans-48\"/>\r\n       <use x=\"63.623047\" xlink:href=\"#DejaVuSans-46\"/>\r\n       <use x=\"95.410156\" xlink:href=\"#DejaVuSans-52\"/>\r\n      </g>\r\n     </g>\r\n    </g>\r\n    <g id=\"ytick_4\">\r\n     <g id=\"line2d_9\">\r\n      <g>\r\n       <use style=\"stroke:#000000;stroke-width:0.8;\" x=\"30.103125\" xlink:href=\"#m8e05f2a1fe\" y=\"102.612915\"/>\r\n      </g>\r\n     </g>\r\n     <g id=\"text_9\">\r\n      <!-- 0.6 -->\r\n      <defs>\r\n       <path d=\"M 33.015625 40.375 \r\nQ 26.375 40.375 22.484375 35.828125 \r\nQ 18.609375 31.296875 18.609375 23.390625 \r\nQ 18.609375 15.53125 22.484375 10.953125 \r\nQ 26.375 6.390625 33.015625 6.390625 \r\nQ 39.65625 6.390625 43.53125 10.953125 \r\nQ 47.40625 15.53125 47.40625 23.390625 \r\nQ 47.40625 31.296875 43.53125 35.828125 \r\nQ 39.65625 40.375 33.015625 40.375 \r\nz\r\nM 52.59375 71.296875 \r\nL 52.59375 62.3125 \r\nQ 48.875 64.0625 45.09375 64.984375 \r\nQ 41.3125 65.921875 37.59375 65.921875 \r\nQ 27.828125 65.921875 22.671875 59.328125 \r\nQ 17.53125 52.734375 16.796875 39.40625 \r\nQ 19.671875 43.65625 24.015625 45.921875 \r\nQ 28.375 48.1875 33.59375 48.1875 \r\nQ 44.578125 48.1875 50.953125 41.515625 \r\nQ 57.328125 34.859375 57.328125 23.390625 \r\nQ 57.328125 12.15625 50.6875 5.359375 \r\nQ 44.046875 -1.421875 33.015625 -1.421875 \r\nQ 20.359375 -1.421875 13.671875 8.265625 \r\nQ 6.984375 17.96875 6.984375 36.375 \r\nQ 6.984375 53.65625 15.1875 63.9375 \r\nQ 23.390625 74.21875 37.203125 74.21875 \r\nQ 40.921875 74.21875 44.703125 73.484375 \r\nQ 48.484375 72.75 52.59375 71.296875 \r\nz\r\n\" id=\"DejaVuSans-54\"/>\r\n      </defs>\r\n      <g transform=\"translate(7.2 106.412134)scale(0.1 -0.1)\">\r\n       <use xlink:href=\"#DejaVuSans-48\"/>\r\n       <use x=\"63.623047\" xlink:href=\"#DejaVuSans-46\"/>\r\n       <use x=\"95.410156\" xlink:href=\"#DejaVuSans-54\"/>\r\n      </g>\r\n     </g>\r\n    </g>\r\n    <g id=\"ytick_5\">\r\n     <g id=\"line2d_10\">\r\n      <g>\r\n       <use style=\"stroke:#000000;stroke-width:0.8;\" x=\"30.103125\" xlink:href=\"#m8e05f2a1fe\" y=\"65.231765\"/>\r\n      </g>\r\n     </g>\r\n     <g id=\"text_10\">\r\n      <!-- 0.8 -->\r\n      <defs>\r\n       <path d=\"M 31.78125 34.625 \r\nQ 24.75 34.625 20.71875 30.859375 \r\nQ 16.703125 27.09375 16.703125 20.515625 \r\nQ 16.703125 13.921875 20.71875 10.15625 \r\nQ 24.75 6.390625 31.78125 6.390625 \r\nQ 38.8125 6.390625 42.859375 10.171875 \r\nQ 46.921875 13.96875 46.921875 20.515625 \r\nQ 46.921875 27.09375 42.890625 30.859375 \r\nQ 38.875 34.625 31.78125 34.625 \r\nz\r\nM 21.921875 38.8125 \r\nQ 15.578125 40.375 12.03125 44.71875 \r\nQ 8.5 49.078125 8.5 55.328125 \r\nQ 8.5 64.0625 14.71875 69.140625 \r\nQ 20.953125 74.21875 31.78125 74.21875 \r\nQ 42.671875 74.21875 48.875 69.140625 \r\nQ 55.078125 64.0625 55.078125 55.328125 \r\nQ 55.078125 49.078125 51.53125 44.71875 \r\nQ 48 40.375 41.703125 38.8125 \r\nQ 48.828125 37.15625 52.796875 32.3125 \r\nQ 56.78125 27.484375 56.78125 20.515625 \r\nQ 56.78125 9.90625 50.3125 4.234375 \r\nQ 43.84375 -1.421875 31.78125 -1.421875 \r\nQ 19.734375 -1.421875 13.25 4.234375 \r\nQ 6.78125 9.90625 6.78125 20.515625 \r\nQ 6.78125 27.484375 10.78125 32.3125 \r\nQ 14.796875 37.15625 21.921875 38.8125 \r\nz\r\nM 18.3125 54.390625 \r\nQ 18.3125 48.734375 21.84375 45.5625 \r\nQ 25.390625 42.390625 31.78125 42.390625 \r\nQ 38.140625 42.390625 41.71875 45.5625 \r\nQ 45.3125 48.734375 45.3125 54.390625 \r\nQ 45.3125 60.0625 41.71875 63.234375 \r\nQ 38.140625 66.40625 31.78125 66.40625 \r\nQ 25.390625 66.40625 21.84375 63.234375 \r\nQ 18.3125 60.0625 18.3125 54.390625 \r\nz\r\n\" id=\"DejaVuSans-56\"/>\r\n      </defs>\r\n      <g transform=\"translate(7.2 69.030984)scale(0.1 -0.1)\">\r\n       <use xlink:href=\"#DejaVuSans-48\"/>\r\n       <use x=\"63.623047\" xlink:href=\"#DejaVuSans-46\"/>\r\n       <use x=\"95.410156\" xlink:href=\"#DejaVuSans-56\"/>\r\n      </g>\r\n     </g>\r\n    </g>\r\n    <g id=\"ytick_6\">\r\n     <g id=\"line2d_11\">\r\n      <g>\r\n       <use style=\"stroke:#000000;stroke-width:0.8;\" x=\"30.103125\" xlink:href=\"#m8e05f2a1fe\" y=\"27.850616\"/>\r\n      </g>\r\n     </g>\r\n     <g id=\"text_11\">\r\n      <!-- 1.0 -->\r\n      <g transform=\"translate(7.2 31.649835)scale(0.1 -0.1)\">\r\n       <use xlink:href=\"#DejaVuSans-49\"/>\r\n       <use x=\"63.623047\" xlink:href=\"#DejaVuSans-46\"/>\r\n       <use x=\"95.410156\" xlink:href=\"#DejaVuSans-48\"/>\r\n      </g>\r\n     </g>\r\n    </g>\r\n   </g>\r\n   <g id=\"line2d_12\">\r\n    <path clip-path=\"url(#pa0dceff3b1)\" d=\"M 45.321307 197.652514 \r\nL 46.047712 17.083636 \r\nL 46.774117 200.662988 \r\nL 47.500521 87.336256 \r\nL 48.226926 114.046728 \r\nL 48.953331 189.647487 \r\nL 49.679736 199.65719 \r\nL 50.406141 200.864124 \r\nL 51.132546 199.455838 \r\nL 51.858951 147.326075 \r\nL 52.585355 181.713373 \r\nL 53.31176 153.828388 \r\nL 54.038165 185.318583 \r\nL 54.76457 202.418081 \r\nL 55.490975 200.457944 \r\nL 56.21738 201.886644 \r\nL 56.943785 202.642325 \r\nL 57.670189 204.045667 \r\nL 58.396594 209.30458 \r\nL 59.122999 201.835128 \r\nL 60.575809 212.800876 \r\nL 61.302214 199.470165 \r\nL 62.028619 200.967308 \r\nL 62.755023 199.77391 \r\nL 64.207833 208.094063 \r\nL 64.934238 210.870773 \r\nL 65.660643 208.289915 \r\nL 66.387048 211.382272 \r\nL 67.113453 203.073153 \r\nL 67.839857 206.965728 \r\nL 68.566262 209.707226 \r\nL 69.292667 208.731965 \r\nL 70.019072 212.991414 \r\nL 70.745477 211.778582 \r\nL 71.471882 212.954759 \r\nL 72.198287 211.150337 \r\nL 73.651096 213.261167 \r\nL 74.377501 213.649223 \r\nL 75.103906 213.203573 \r\nL 75.830311 210.017114 \r\nL 76.556716 213.077817 \r\nL 77.283121 211.525036 \r\nL 78.009526 211.786866 \r\nL 78.73593 213.981687 \r\nL 79.462335 213.782435 \r\nL 80.18874 212.837616 \r\nL 81.64155 214.344917 \r\nL 82.367955 211.42563 \r\nL 83.09436 212.870437 \r\nL 83.820764 213.564464 \r\nL 84.547169 214.62411 \r\nL 85.273574 213.949035 \r\nL 86.726384 214.298623 \r\nL 87.452789 214.006776 \r\nL 88.179194 214.090946 \r\nL 88.905598 213.816413 \r\nL 89.632003 214.654035 \r\nL 90.358408 214.710167 \r\nL 91.084813 214.582003 \r\nL 91.811218 213.84794 \r\nL 92.537623 213.442932 \r\nL 93.264028 214.555281 \r\nL 93.990432 214.701193 \r\nL 95.443242 214.717052 \r\nL 96.169647 214.297898 \r\nL 96.896052 214.658337 \r\nL 97.622457 214.418484 \r\nL 98.348862 214.69922 \r\nL 99.075266 213.659952 \r\nL 99.801671 214.714764 \r\nL 100.528076 214.730427 \r\nL 101.254481 214.387378 \r\nL 101.980886 213.517413 \r\nL 102.707291 214.672485 \r\nL 103.433696 214.717285 \r\nL 104.1601 214.102159 \r\nL 104.886505 214.187238 \r\nL 105.61291 214.654777 \r\nL 106.339315 214.195987 \r\nL 107.06572 213.066442 \r\nL 107.792125 214.748228 \r\nL 108.51853 214.741069 \r\nL 109.244935 214.33247 \r\nL 109.971339 214.741122 \r\nL 113.603364 214.743746 \r\nL 116.508983 214.737026 \r\nL 117.235388 214.252614 \r\nL 117.961793 214.743327 \r\nL 120.867412 214.65769 \r\nL 121.593817 214.733445 \r\nL 122.320222 214.594909 \r\nL 123.773032 214.525193 \r\nL 124.499437 213.592878 \r\nL 125.225841 214.420236 \r\nL 125.952246 214.625101 \r\nL 127.405056 214.750007 \r\nL 128.131461 214.600203 \r\nL 128.857866 213.984158 \r\nL 129.584271 214.475432 \r\nL 130.310675 214.637256 \r\nL 131.03708 214.305163 \r\nL 131.763485 214.701664 \r\nL 132.48989 211.505716 \r\nL 133.216295 213.677251 \r\nL 133.9427 214.592269 \r\nL 134.669105 213.866759 \r\nL 135.395509 214.750083 \r\nL 136.121914 214.325053 \r\nL 136.848319 214.247804 \r\nL 137.574724 214.611338 \r\nL 138.301129 212.068673 \r\nL 139.027534 214.534084 \r\nL 139.753939 214.698346 \r\nL 140.480343 214.600342 \r\nL 141.206748 212.09713 \r\nL 141.933153 214.594703 \r\nL 143.385963 214.640507 \r\nL 144.112368 214.391707 \r\nL 144.838773 214.749153 \r\nL 145.565178 214.460987 \r\nL 147.017987 214.557736 \r\nL 147.744392 214.754524 \r\nL 148.470797 214.754031 \r\nL 149.197202 214.450887 \r\nL 149.923607 214.746599 \r\nL 155.734846 214.756315 \r\nL 156.46125 213.444226 \r\nL 157.187655 214.755303 \r\nL 162.272489 214.695523 \r\nL 162.998894 213.988592 \r\nL 163.725299 214.749433 \r\nL 164.451704 213.878112 \r\nL 165.178109 214.753775 \r\nL 167.357323 214.749395 \r\nL 168.083728 214.48052 \r\nL 168.810133 214.747624 \r\nL 169.536538 214.62386 \r\nL 170.262943 214.746885 \r\nL 173.894967 214.746511 \r\nL 174.621372 214.409099 \r\nL 175.347777 214.752072 \r\nL 176.800586 214.756097 \r\nL 177.526991 214.627933 \r\nL 178.253396 214.755581 \r\nL 178.979801 214.599814 \r\nL 179.706206 214.752603 \r\nL 186.24385 214.749793 \r\nL 186.970255 214.55871 \r\nL 187.696659 214.752119 \r\nL 188.423064 214.604787 \r\nL 189.149469 214.754367 \r\nL 200.771947 214.619349 \r\nL 201.498352 214.753095 \r\nL 210.21521 214.669388 \r\nL 211.66802 214.754008 \r\nL 225.469712 214.7563 \r\nL 226.196117 214.601456 \r\nL 226.922522 214.755941 \r\nL 245.809048 214.728212 \r\nL 246.535453 214.573142 \r\nL 247.261858 214.738899 \r\nL 251.620287 214.75534 \r\nL 252.346692 214.594657 \r\nL 253.073097 214.755348 \r\nL 253.799502 214.171629 \r\nL 254.525907 214.726865 \r\nL 258.884336 214.75427 \r\nL 259.610741 214.5008 \r\nL 260.337145 214.756042 \r\nL 263.242765 214.746921 \r\nL 263.96917 214.31073 \r\nL 264.695575 214.756352 \r\nL 269.054004 214.756313 \r\nL 269.780409 214.415704 \r\nL 270.506813 214.747379 \r\nL 271.959623 214.756068 \r\nL 272.686028 214.532173 \r\nL 273.412433 214.582743 \r\nL 274.138838 214.755385 \r\nL 274.865243 214.09271 \r\nL 275.591647 214.756099 \r\nL 276.318052 214.752837 \r\nL 277.044457 212.987274 \r\nL 277.770862 214.725265 \r\nL 278.497267 214.267669 \r\nL 279.223672 214.749742 \r\nL 279.950077 213.74508 \r\nL 280.676481 214.733463 \r\nL 281.402886 214.684591 \r\nL 282.129291 207.173785 \r\nL 282.855696 210.291904 \r\nL 283.582101 214.746337 \r\nL 285.034911 214.681946 \r\nL 285.761315 213.952829 \r\nL 286.48772 212.567553 \r\nL 287.214125 214.273888 \r\nL 287.94053 214.74798 \r\nL 288.666935 214.756349 \r\nL 289.39334 214.52143 \r\nL 290.119745 214.753187 \r\nL 290.84615 214.513088 \r\nL 292.298959 213.252353 \r\nL 293.025364 214.218162 \r\nL 293.751769 214.744931 \r\nL 294.478174 214.689406 \r\nL 295.930984 214.745615 \r\nL 296.657388 214.749818 \r\nL 297.383793 214.283466 \r\nL 298.836603 214.709424 \r\nL 299.563008 213.28312 \r\nL 300.289413 211.323678 \r\nL 301.015818 214.745266 \r\nL 301.742222 214.503562 \r\nL 302.468627 214.755829 \r\nL 303.921437 214.746315 \r\nL 304.647842 213.730323 \r\nL 305.374247 214.521804 \r\nL 306.100652 214.755643 \r\nL 306.827056 214.749987 \r\nL 307.553461 214.325678 \r\nL 308.279866 214.617817 \r\nL 309.006271 214.750063 \r\nL 309.732676 214.065762 \r\nL 310.459081 214.755106 \r\nL 311.185486 214.273737 \r\nL 311.91189 214.717149 \r\nL 312.638295 213.75216 \r\nL 313.3647 212.99458 \r\nL 314.091105 214.754195 \r\nL 314.81751 214.322597 \r\nL 315.543915 214.743014 \r\nL 316.27032 214.755414 \r\nL 316.996724 213.964353 \r\nL 317.723129 214.60165 \r\nL 319.902344 214.756352 \r\nL 320.628749 212.720213 \r\nL 321.355154 214.752476 \r\nL 324.260773 214.755861 \r\nL 324.987178 214.452621 \r\nL 325.713583 214.751185 \r\nL 330.072012 214.67531 \r\nL 330.798417 214.586151 \r\nL 331.524822 214.754282 \r\nL 332.251227 214.743044 \r\nL 332.977631 213.49429 \r\nL 333.704036 214.753082 \r\nL 338.062465 214.756364 \r\nL 338.78887 214.389987 \r\nL 339.515275 214.730136 \r\nL 340.24168 214.756363 \r\nL 340.968085 214.411716 \r\nL 341.69449 214.756364 \r\nL 349.684943 214.756363 \r\nL 349.684943 214.756363 \r\n\" style=\"fill:none;stroke:#1f77b4;stroke-linecap:square;stroke-width:1.5;\"/>\r\n   </g>\r\n   <g id=\"patch_3\">\r\n    <path d=\"M 30.103125 224.64 \r\nL 30.103125 7.2 \r\n\" style=\"fill:none;stroke:#000000;stroke-linecap:square;stroke-linejoin:miter;stroke-width:0.8;\"/>\r\n   </g>\r\n   <g id=\"patch_4\">\r\n    <path d=\"M 364.903125 224.64 \r\nL 364.903125 7.2 \r\n\" style=\"fill:none;stroke:#000000;stroke-linecap:square;stroke-linejoin:miter;stroke-width:0.8;\"/>\r\n   </g>\r\n   <g id=\"patch_5\">\r\n    <path d=\"M 30.103125 224.64 \r\nL 364.903125 224.64 \r\n\" style=\"fill:none;stroke:#000000;stroke-linecap:square;stroke-linejoin:miter;stroke-width:0.8;\"/>\r\n   </g>\r\n   <g id=\"patch_6\">\r\n    <path d=\"M 30.103125 7.2 \r\nL 364.903125 7.2 \r\n\" style=\"fill:none;stroke:#000000;stroke-linecap:square;stroke-linejoin:miter;stroke-width:0.8;\"/>\r\n   </g>\r\n  </g>\r\n </g>\r\n <defs>\r\n  <clipPath id=\"pa0dceff3b1\">\r\n   <rect height=\"217.44\" width=\"334.8\" x=\"30.103125\" y=\"7.2\"/>\r\n  </clipPath>\r\n </defs>\r\n</svg>\r\n",
      "image/png": "[encoded data removed]"
     },
     "metadata": {
      "needs_background": "light"
     }
    }
   ],
   "source": [
    "import matplotlib.pyplot as plt\n",
    "\n",
    "plt.plot(loss_memory)\n",
    "plt.savefig('train_loss.png', dpi=300, bbox_inches='tight')\n",
    "plt.show()"
   ]
  },
  {
   "cell_type": "code",
   "execution_count": null,
   "metadata": {},
   "outputs": [],
   "source": []
  }
 ]
}