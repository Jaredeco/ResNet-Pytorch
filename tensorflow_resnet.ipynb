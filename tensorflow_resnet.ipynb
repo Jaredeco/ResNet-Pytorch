{
 "cells": [
  {
   "cell_type": "code",
   "execution_count": 1,
   "metadata": {},
   "outputs": [],
   "source": [
    "import tensorflow as tf\n",
    "from tensorflow.keras import layers, models\n",
    "import numpy as np\n",
    "import os\n",
    "from tensorflow import keras\n",
    "from sklearn.model_selection import train_test_split\n",
    "import cv2"
   ]
  },
  {
   "cell_type": "code",
   "execution_count": 2,
   "metadata": {},
   "outputs": [],
   "source": [
    "data_dir = r\"D:\\Datasets\\gtsrb\\gtsrb\"\n",
    "num_categories = len(os.listdir(data_dir))\n",
    "def load_data(data_dir):\n",
    "    images = []\n",
    "    labels = []\n",
    "    for i in range(num_categories):\n",
    "        di = os.path.join(data_dir, f\"{str(i)}\")\n",
    "        for img in os.listdir(di):\n",
    "            path = os.path.join(data_dir,f\"{str(i)}\", img)\n",
    "            im = cv2.imread(path)\n",
    "            im_res = cv2.resize(im, (32, 32), interpolation= cv2.INTER_AREA)\n",
    "            labels.append(i)\n",
    "            images.append(im_res)\n",
    "    return (images, labels,)\n",
    "\n",
    "images, labels = load_data(data_dir)\n",
    "labels = tf.keras.utils.to_categorical(labels)\n",
    "x_train, x_test, y_train, y_test = train_test_split(\n",
    "np.array(images, dtype=np.float32), np.array(labels), test_size=0.2\n",
    ")"
   ]
  },
  {
   "cell_type": "code",
   "execution_count": 3,
   "metadata": {},
   "outputs": [],
   "source": [
    "class Resnet(keras.Model):\n",
    "    def __init__(self, num_classes):\n",
    "        super(Resnet, self).__init__()\n",
    "        self.conv1 = layers.Conv2D(32, (3, 3), activation='relu', input_shape=(32, 32, 3))\n",
    "        self.bn1 = layers.BatchNormalization()\n",
    "        self.conv2 = layers.Conv2D(128, (3, 3), activation='relu') \n",
    "        self.bn2 = layers.BatchNormalization()\n",
    "        \n",
    "        self.res_conv1 = layers.Conv2D(128, (3, 3), activation='relu', padding='same')\n",
    "        self.res_conv2 = layers.Conv2D(128, (3, 3), activation='relu', padding='same')\n",
    "        \n",
    "        self.conv3 = layers.Conv2D(256, (3, 3), activation='relu')\n",
    "        self.bn3 = layers.BatchNormalization()\n",
    "        self.flatten = layers.Flatten()\n",
    "        self.fc1 = layers.Dense(256, activation='relu')\n",
    "        self.fc2 = layers.Dense(num_classes, activation='softmax')\n",
    "    \n",
    "    def conv_block1(self, x):\n",
    "        x = self.conv1(x)\n",
    "        x = self.bn1(x)\n",
    "        x = self.conv2(x)\n",
    "        x = self.bn2(x) \n",
    "        return x\n",
    "    \n",
    "    def res_block1(self, r):\n",
    "        x = self.res_conv1(r)\n",
    "        x = self.res_conv2(x) + r\n",
    "        return x\n",
    "        \n",
    "    def conv_block2(self, x):\n",
    "        x = self.conv3(x)\n",
    "        x = self.bn3(x)\n",
    "        x = self.flatten(x)\n",
    "        x = self.fc1(x)\n",
    "        x = self.fc2(x)\n",
    "        return x\n",
    "    \n",
    "    def call(self, x):\n",
    "        x = self.conv_block1(x)\n",
    "        x = self.res_block1(x)\n",
    "        x = self.conv_block2(x)\n",
    "        return x"
   ]
  },
  {
   "cell_type": "code",
   "execution_count": 4,
   "metadata": {},
   "outputs": [
    {
     "name": "stdout",
     "output_type": "stream",
     "text": [
      "Epoch 1/3\n",
      "  2/666 [..............................] - ETA: 25s - loss: 31.1498 - categorical_accuracy: 0.1562WARNING:tensorflow:Callbacks method `on_train_batch_end` is slow compared to the batch time (batch time: 0.0035s vs `on_train_batch_end` time: 0.0712s). Check your callbacks.\n",
      "666/666 [==============================] - 59s 88ms/step - loss: 1.2690 - categorical_accuracy: 0.8518 - val_loss: 0.2492 - val_categorical_accuracy: 0.9384\n",
      "Epoch 2/3\n",
      "666/666 [==============================] - 57s 86ms/step - loss: 0.1075 - categorical_accuracy: 0.9732 - val_loss: 0.4775 - val_categorical_accuracy: 0.8833\n",
      "Epoch 3/3\n",
      "666/666 [==============================] - 56s 85ms/step - loss: 0.1167 - categorical_accuracy: 0.9718 - val_loss: 0.4278 - val_categorical_accuracy: 0.9154\n"
     ]
    },
    {
     "data": {
      "text/plain": [
       "<tensorflow.python.keras.callbacks.History at 0x1f70ddc25c8>"
      ]
     },
     "execution_count": 4,
     "metadata": {},
     "output_type": "execute_result"
    }
   ],
   "source": [
    "net = Resnet(num_categories)\n",
    "net.compile(optimizer='adam', loss='categorical_crossentropy', metrics=[keras.metrics.categorical_accuracy])\n",
    "net.fit(x_train, y_train, validation_data=(x_test,y_test), epochs=3)"
   ]
  },
  {
   "cell_type": "code",
   "execution_count": null,
   "metadata": {},
   "outputs": [],
   "source": []
  }
 ],
 "metadata": {
  "kernelspec": {
   "display_name": "Python 3",
   "language": "python",
   "name": "python3"
  },
  "language_info": {
   "codemirror_mode": {
    "name": "ipython",
    "version": 3
   },
   "file_extension": ".py",
   "mimetype": "text/x-python",
   "name": "python",
   "nbconvert_exporter": "python",
   "pygments_lexer": "ipython3",
   "version": "3.7.6"
  }
 },
 "nbformat": 4,
 "nbformat_minor": 4
}
